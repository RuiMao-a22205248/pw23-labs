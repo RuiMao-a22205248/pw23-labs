{
 "cells": [
  {
   "attachments": {},
   "cell_type": "markdown",
   "metadata": {},
   "source": [
    "**UNIVERSIDADE LUSÓFONA DE HUMANIDADES E TECNOLOGIAS**\n",
    "\n",
    "# Programação Web -  Lab. 8: Python\n",
    "\n",
    "* Estes exercícios estão reidgidos em forma de tutorial para exercitar conceitos chave do Python associados com sets e dicionários. \n",
    "* Consulte os slides se tiver dúvidas. Estes contêm toda a matéria necessária para realizar estes exercícios.\n",
    "* Consulte os [video-tutoriais](https://educast.fccn.pt/vod/channels/1fzfn2fjbd?locale=en) curtos que explicam conceitos específicos do Python."
   ]
  },
  {
   "attachments": {},
   "cell_type": "markdown",
   "metadata": {
    "id": "cecSdetMJ8dx"
   },
   "source": [
    "# 0. Sets\n",
    "\n",
    "[sets: video-tutorial (5 min)](https://educast.fccn.pt/vod/clips/2h0d4s8ob4/desktop.mp4?locale=pt)\n",
    "\n",
    "Num infantário perguntaram às crianças qual a prenda de Natal que queriam. Resultou na seguinte lista:"
   ]
  },
  {
   "cell_type": "code",
   "execution_count": 2,
   "metadata": {
    "id": "-Y8M2yLQJ8d3"
   },
   "outputs": [],
   "source": [
    "lista_brinquedos = ['bola', 'boneca', 'carro', 'boneca', 'boneca', 'bola', 'boneca', 'carro', \n",
    "                    'boneca', 'boneca', 'pião', 'bola', 'boneca', 'carro', 'boneca', 'boneca', \n",
    "                    'bola', 'boneca', 'carro', 'boneca', 'boneca', 'bola', 'carro', 'bola', \n",
    "                    'carro', 'boneca', 'boneca', 'carro', 'carro', 'carro']"
   ]
  },
  {
   "attachments": {},
   "cell_type": "markdown",
   "metadata": {
    "id": "9dc7CSF9J8d5"
   },
   "source": [
    "1 Calcule quantos brinquedos existem"
   ]
  },
  {
   "cell_type": "code",
   "execution_count": 3,
   "metadata": {
    "id": "086YZS7pJ8d6"
   },
   "outputs": [
    {
     "name": "stdout",
     "output_type": "stream",
     "text": [
      "30\n"
     ]
    }
   ],
   "source": [
    "print(len(lista_brinquedos))"
   ]
  },
  {
   "attachments": {},
   "cell_type": "markdown",
   "metadata": {
    "id": "9dc7CSF9J8d5"
   },
   "source": [
    "2 Crie o set de brinquedos pretendidos\n",
    "\n",
    "Resultado esperado: `{'bola', 'boneca', 'carro', 'pião'}` \n",
    "\n",
    "Nota: o resultado pode estar noutra ordem pois um set é um conjunto onde os elementos não têm uma posição como nas sequências!"
   ]
  },
  {
   "cell_type": "code",
   "execution_count": 4,
   "metadata": {
    "id": "086YZS7pJ8d6"
   },
   "outputs": [
    {
     "name": "stdout",
     "output_type": "stream",
     "text": [
      "{'carro', 'pião', 'bola', 'boneca'}\n"
     ]
    }
   ],
   "source": [
    "print(set(lista_brinquedos))"
   ]
  },
  {
   "attachments": {},
   "cell_type": "markdown",
   "metadata": {
    "id": "NpKtoa9LJ8d7"
   },
   "source": [
    "3. Crie o set dos brinquedos pretendidos recorrendo a uma compreensão."
   ]
  },
  {
   "cell_type": "code",
   "execution_count": 7,
   "metadata": {
    "id": "7fZSYcwIJ8d7"
   },
   "outputs": [
    {
     "name": "stdout",
     "output_type": "stream",
     "text": [
      "{'carro', 'pião', 'bola', 'boneca'}\n"
     ]
    }
   ],
   "source": [
    "brinquedos_pretendidos = {'bola', 'boneca', 'carro', 'pião'} \n",
    "\n",
    "brinquedos= {brinquedo for brinquedo in lista_brinquedos if brinquedo in brinquedos_pretendidos}\n",
    "\n",
    "print(brinquedos) \n"
   ]
  },
  {
   "attachments": {},
   "cell_type": "markdown",
   "metadata": {
    "id": "jZWABtadJ8d7"
   },
   "source": [
    "4. Itere pelo set de brinquedos, imprimindo o seu nome e a quantidade de brinquedos desse tipo existentes na lista. Para tal, utilize o método `count()` para contar a frequenciai de cada brinquedo na lista de brinquedos. Exemplo do resultado esperado:\n",
    "\n",
    "```\n",
    "boneca: 14\n",
    "bola: 6\n",
    "pião: 1\n",
    "carro: 9\n",
    "```\n",
    "\n",
    "Nota: o resultado pode estar noutra ordem pois um set é um conjunto onde os elementos não têm uma posição como nas sequências!"
   ]
  },
  {
   "cell_type": "code",
   "execution_count": 8,
   "metadata": {},
   "outputs": [
    {
     "name": "stdout",
     "output_type": "stream",
     "text": [
      "carro: 9\n",
      "pião: 1\n",
      "bola: 6\n",
      "boneca: 14\n"
     ]
    }
   ],
   "source": [
    "for nome in set(lista_brinquedos):\n",
    "    print(f\"{nome}: {lista_brinquedos.count(nome)}\")"
   ]
  },
  {
   "attachments": {},
   "cell_type": "markdown",
   "metadata": {},
   "source": [
    "Para saber a quantidade de ocorrencias de um determinado brinquedo, pode usar a seguinte instrução: \n",
    "\n",
    "`lista_brinquedos.count('boneca')`\n",
    "\n",
    "Experimente-a para ver quantas bonecas existem."
   ]
  },
  {
   "cell_type": "code",
   "execution_count": 3,
   "metadata": {},
   "outputs": [
    {
     "data": {
      "text/plain": [
       "14"
      ]
     },
     "execution_count": 3,
     "metadata": {},
     "output_type": "execute_result"
    }
   ],
   "source": [
    "lista_brinquedos.count('boneca')"
   ]
  },
  {
   "attachments": {},
   "cell_type": "markdown",
   "metadata": {
    "id": "jZWABtadJ8d7"
   },
   "source": [
    "5. Itere pelo set de brinquedos, imprimindo o seu nome e a quantidade de brinquedos desse tipo existentes na lista. Para tal, utilize o método `count()` para contar as ocorrências de cada brinquedo na lista de brinquedos. Exemplo do resultado esperado:\n",
    "\n",
    "```\n",
    "Existem 14 bonecas\n",
    "Existem 6 bolas\n",
    "Existe 1 pião\n",
    "Existem 9 carros\n",
    "```\n",
    "\n",
    "Deverá garantir que a frase diferencia quando existe apenas uma ocorrencia (frase no singular), ou mais do que uma ocorrência (plural).\n",
    "\n",
    "Nota: o resultado pode estar noutra ordem pois um set é um conjunto onde os elementos não têm uma posição como nas sequências!"
   ]
  },
  {
   "cell_type": "code",
   "execution_count": 4,
   "metadata": {
    "id": "aa1jzFccJ8d8",
    "outputId": "8efe71d6-0d7c-4146-b6cf-677132a73304"
   },
   "outputs": [
    {
     "name": "stdout",
     "output_type": "stream",
     "text": [
      "Existe 1 pião\n",
      "Existem 9 carros\n",
      "Existem 6 bolas\n",
      "Existem 14 bonecas\n"
     ]
    }
   ],
   "source": [
    "for brinquedo in set(lista_brinquedos):\n",
    "    quantidade = lista_brinquedos.count(brinquedo)\n",
    "    if quantidade == 1:\n",
    "        print(f\"Existe 1 {brinquedo}\")\n",
    "    else:\n",
    "        print(f\"Existem {quantidade} {brinquedo}s\")"
   ]
  },
  {
   "attachments": {},
   "cell_type": "markdown",
   "metadata": {},
   "source": [
    "# 1. Jantar\n",
    "\n",
    "[Sets e dicionarios: video-tutorial (4 min)](https://educast.fccn.pt/vod/clips/2loqfocen7/desktop.mp4?locale=pt)\n",
    "\n",
    "Foi a um jantar de curso e havia tres pratos. Foi circulado um papel onde as pessoas foram inserindo a sua escolha, resultando na seguinte lista:"
   ]
  },
  {
   "cell_type": "code",
   "execution_count": 5,
   "metadata": {},
   "outputs": [],
   "source": [
    "pratos = [\"carne\", 'peixe', 'vegetariano', 'peixe', \n",
    "          'vegetariano', 'vegetariano', 'peixe', 'carne',\n",
    "          'vegetariano', 'vegetariano', 'peixe', 'peixe', \n",
    "          'carne', 'peixe', 'carne', 'vegetariano']"
   ]
  },
  {
   "attachments": {},
   "cell_type": "markdown",
   "metadata": {},
   "source": [
    "1. Calcule o numero total de pratos pedidos"
   ]
  },
  {
   "cell_type": "code",
   "execution_count": 6,
   "metadata": {},
   "outputs": [
    {
     "name": "stdout",
     "output_type": "stream",
     "text": [
      "16\n"
     ]
    }
   ],
   "source": [
    "print(len(pratos))"
   ]
  },
  {
   "attachments": {},
   "cell_type": "markdown",
   "metadata": {},
   "source": [
    "2. Crie o set pratos, com o conjunto de pratos que foram pedidos"
   ]
  },
  {
   "cell_type": "code",
   "execution_count": 7,
   "metadata": {},
   "outputs": [
    {
     "name": "stdout",
     "output_type": "stream",
     "text": [
      "{'peixe', 'vegetariano', 'carne'}\n"
     ]
    }
   ],
   "source": [
    "print(set(pratos))"
   ]
  },
  {
   "attachments": {},
   "cell_type": "markdown",
   "metadata": {},
   "source": [
    "3. Diga quantos pratos diferentes existem"
   ]
  },
  {
   "cell_type": "code",
   "execution_count": 8,
   "metadata": {},
   "outputs": [
    {
     "name": "stdout",
     "output_type": "stream",
     "text": [
      "3\n"
     ]
    }
   ],
   "source": [
    "print(len(set(pratos)))"
   ]
  },
  {
   "attachments": {},
   "cell_type": "markdown",
   "metadata": {},
   "source": [
    "4. Crie um dicionário de frequências de cada um dos pratos"
   ]
  },
  {
   "cell_type": "code",
   "execution_count": 11,
   "metadata": {},
   "outputs": [
    {
     "name": "stdout",
     "output_type": "stream",
     "text": [
      "{'carne': 4, 'peixe': 6, 'vegetariano': 6}\n"
     ]
    }
   ],
   "source": [
    "frequencias = {}\n",
    "\n",
    "for prato in pratos:\n",
    "    if prato in frequencias:\n",
    "        frequencias[prato] += 1\n",
    "    else:\n",
    "        frequencias[prato] = 1\n",
    "\n",
    "print(frequencias)"
   ]
  },
  {
   "attachments": {},
   "cell_type": "markdown",
   "metadata": {},
   "source": [
    "5. Considere o menu do restaurante:\n",
    "* vegetariano: 10.3\n",
    "* carne: 13.2\n",
    "* crudivero: 14.2\n",
    "* peixe: 12.5\n",
    "* marisco: 17.5\n",
    "* vegan: 34\n",
    "\n",
    "Crie um dicionário de preços"
   ]
  },
  {
   "cell_type": "code",
   "execution_count": 12,
   "metadata": {},
   "outputs": [
    {
     "name": "stdout",
     "output_type": "stream",
     "text": [
      "{'vegetariano': 10.3, 'carne': 13.2, 'crudivero': 14.2, 'peixe': 12.5, 'marisco': 17.5, 'vegan': 34}\n"
     ]
    }
   ],
   "source": [
    "menu = {\n",
    "    \"vegetariano\": 10.3,\n",
    "    \"carne\": 13.2,\n",
    "    \"crudivero\": 14.2,\n",
    "    \"peixe\": 12.5,\n",
    "    \"marisco\": 17.5,\n",
    "    \"vegan\": 34\n",
    "}\n",
    "\n",
    "print(menu)\n"
   ]
  },
  {
   "attachments": {},
   "cell_type": "markdown",
   "metadata": {},
   "source": [
    "6. Crie um programa que: \n",
    "* apresenta ao utilizador o conjunto de pratos disponíveis.  \n",
    "* pede ao utilizador para escolher um prato\n",
    "* o programa apresenta o preço do prato\n",
    "\n",
    "\n",
    "Construa um conjunto de funções para tornar o código mais modular."
   ]
  },
  {
   "cell_type": "code",
   "execution_count": 14,
   "metadata": {},
   "outputs": [
    {
     "name": "stdout",
     "output_type": "stream",
     "text": [
      "Pratos disponíveis:\n",
      "vegetariano\n",
      "carne\n",
      "crudivero\n",
      "peixe\n",
      "marisco\n",
      "vegan\n",
      "O preço do prato marisco é: 17.5\n"
     ]
    }
   ],
   "source": [
    "\n",
    "def mostrar_pratos(pratos):\n",
    "    print(\"Pratos disponíveis:\")\n",
    "    for prato in pratos:\n",
    "        print(prato)\n",
    "\n",
    "\n",
    "def obter_preco(pratos, prato_escolhido):\n",
    "    if prato_escolhido in pratos:\n",
    "        return pratos[prato_escolhido]\n",
    "    else:\n",
    "        return None\n",
    "\n",
    "\n",
    "mostrar_pratos(menu)\n",
    "\n",
    "prato_escolhido = input(\"Escolha um prato: \")\n",
    "\n",
    "preco = obter_preco(menu, prato_escolhido)\n",
    "\n",
    "if preco is not None:\n",
    "        print(f\"O preço do prato {prato_escolhido} é: {preco}\")\n",
    "else:\n",
    "        print(\"Prato não encontrado.\")\n",
    "\n",
    "\n"
   ]
  },
  {
   "attachments": {},
   "cell_type": "markdown",
   "metadata": {},
   "source": [
    "7. Calcule o valor da conta final, iterando pela lista de pratos"
   ]
  },
  {
   "cell_type": "code",
   "execution_count": 15,
   "metadata": {},
   "outputs": [
    {
     "name": "stdout",
     "output_type": "stream",
     "text": [
      "Valor da conta: 189.59999999999997\n"
     ]
    }
   ],
   "source": [
    "def calcular_conta(pratos, menu):\n",
    "    total = 0\n",
    "    for prato in pratos:\n",
    "        if prato in menu:\n",
    "            total += menu[prato]\n",
    "    return total\n",
    "\n",
    "valor_conta = calcular_conta(pratos, menu)\n",
    "print(\"Valor da conta:\", valor_conta)"
   ]
  },
  {
   "attachments": {},
   "cell_type": "markdown",
   "metadata": {},
   "source": [
    "8. Calcule o valor da conta final, iterando pelos elementos do dicionário"
   ]
  },
  {
   "cell_type": "code",
   "execution_count": 16,
   "metadata": {},
   "outputs": [
    {
     "name": "stdout",
     "output_type": "stream",
     "text": [
      "Valor da conta: 189.6\n"
     ]
    }
   ],
   "source": [
    "def calcular_conta_final(frequencias, menu):\n",
    "    total = 0\n",
    "    for prato, quantidade in frequencias.items():\n",
    "        if prato in menu:\n",
    "            total += menu[prato] * quantidade\n",
    "    return total\n",
    "\n",
    "valor_conta = calcular_conta_final(frequencias, menu)\n",
    "print(\"Valor da conta:\", valor_conta)"
   ]
  },
  {
   "attachments": {},
   "cell_type": "markdown",
   "metadata": {
    "id": "hbZyHblFJ8d-"
   },
   "source": [
    "# 2. Dicionários\n",
    "\n",
    "[Iteração por dicionarios: video-tutorial (5 min)](https://educast.fccn.pt/vod/clips/6rv7j9es0/desktop.mp4?locale=pt)\n",
    "\n",
    "Considere a lista de brinquedos em baixo"
   ]
  },
  {
   "cell_type": "code",
   "execution_count": 1,
   "metadata": {
    "id": "BpjjFg0mJ8d_"
   },
   "outputs": [],
   "source": [
    "lista_brinquedos = ['bola', 'boneca', 'carro', 'boneca', 'boneca', 'bola', 'boneca', 'carro', \n",
    "                    'boneca', 'boneca', 'pião', 'bola', 'boneca', 'carro', 'boneca', 'boneca', \n",
    "                    'bola', 'boneca', 'carro', 'boneca', 'boneca', 'bola', 'carro', 'bola', \n",
    "                    'carro', 'boneca', 'boneca', 'carro', 'carro', 'carro']"
   ]
  },
  {
   "attachments": {},
   "cell_type": "markdown",
   "metadata": {
    "id": "_tg08suzJ8d_"
   },
   "source": [
    "2.1 Com base na lista anterior e recorrendo ao set, crie um dicionario, recorrendo a um ciclo ```for```, em que, para cada brinquedo (chave), guarda a quantidade de brinquedos (valor)\n",
    "\n",
    "Resultado esperado: `{'bola': 6, 'boneca': 14, 'carro': 9, 'pião': 1}`"
   ]
  },
  {
   "cell_type": "code",
   "execution_count": 4,
   "metadata": {
    "id": "tGCK-8RiJ8eA"
   },
   "outputs": [
    {
     "name": "stdout",
     "output_type": "stream",
     "text": [
      "{'pião': 1, 'boneca': 14, 'carro': 9, 'bola': 6}\n"
     ]
    }
   ],
   "source": [
    "brinquedos_quantidade = {}\n",
    "\n",
    "for brinquedo in set(lista_brinquedos):\n",
    "    quantidade = lista_brinquedos.count(brinquedo)\n",
    "    brinquedos_quantidade[brinquedo] = quantidade\n",
    "\n",
    "print(brinquedos_quantidade)"
   ]
  },
  {
   "attachments": {},
   "cell_type": "markdown",
   "metadata": {
    "id": "vuqdMutUJ8eA"
   },
   "source": [
    "2.2 Itere pelos elementos do dicionario, imprimindo as chaves do dicionário (utilize o método `.keys()`). Formate devidamente as impressões para chegar um resultado no seguinte formato:\n",
    "\n",
    "```\n",
    "brinquedos: bola, boneca, carro, pião.\n",
    "```"
   ]
  },
  {
   "cell_type": "code",
   "execution_count": 5,
   "metadata": {
    "id": "x4hLYJnbJ8eA"
   },
   "outputs": [
    {
     "name": "stdout",
     "output_type": "stream",
     "text": [
      "brinquedos: pião, boneca, carro, bola.\n"
     ]
    }
   ],
   "source": [
    "chaves= \", \".join(brinquedos_quantidade.keys())\n",
    "\n",
    "print(f\"brinquedos: {chaves}.\")"
   ]
  },
  {
   "attachments": {},
   "cell_type": "markdown",
   "metadata": {
    "id": "tBpTem9yJ8eB"
   },
   "source": [
    "2.3 Itere pelos elementos do dicionario, imprimindo apenas os valores do dicionário (utilize o método `.values()`) e apresentando também o numero total de brinquedos. Formate devidamente as impressões para chegar um resultado no seguinte formato:\n",
    "```\n",
    "Quantidades: 6, 14, 9, 1\n",
    "Total de brinquedos: 30\n",
    "```"
   ]
  },
  {
   "cell_type": "code",
   "execution_count": 6,
   "metadata": {
    "id": "5_q43Aq9J8eB"
   },
   "outputs": [
    {
     "name": "stdout",
     "output_type": "stream",
     "text": [
      "Quantidades: 1, 14, 9, 6\n",
      "Total de brinquedos: 30\n"
     ]
    }
   ],
   "source": [
    "valores = brinquedos_quantidade.values()\n",
    "total = sum(valores)\n",
    "\n",
    "valores_formatados = \", \".join(str(valor) for valor in valores)\n",
    "\n",
    "print(f\"Quantidades: {valores_formatados}\")\n",
    "print(f\"Total de brinquedos: {total}\")"
   ]
  },
  {
   "attachments": {},
   "cell_type": "markdown",
   "metadata": {
    "id": "tbWTrqWMJ8eB"
   },
   "source": [
    "2.4 Itere pelos elementos do dicionario, imprimindo as chaves e os valores do dicionário (utilize o método `.items()`).\n",
    "\n",
    " Exemplo do resultado esperado:\n",
    "\n",
    "```\n",
    "Existem 14 bonecas\n",
    "Existem 6 bolas\n",
    "Existe 1 pião\n",
    "Existem 9 carros\n",
    "```\n",
    "\n",
    "Deverá garantir que a frase diferencia quando existe apenas uma ocorrencia (frase no singular), ou mais do que uma ocorrência (plural)."
   ]
  },
  {
   "cell_type": "code",
   "execution_count": 7,
   "metadata": {
    "id": "fv2nybfKJ8eB"
   },
   "outputs": [
    {
     "name": "stdout",
     "output_type": "stream",
     "text": [
      "Existe 1 pião\n",
      "Existem 14 bonecas\n",
      "Existem 9 carros\n",
      "Existem 6 bolas\n"
     ]
    }
   ],
   "source": [
    "for brinquedo, quantidade in brinquedos_quantidade.items():\n",
    "    if quantidade == 1:\n",
    "        print(f\"Existe 1 {brinquedo}\")\n",
    "    else:\n",
    "        print(f\"Existem {quantidade} {brinquedo}s\")"
   ]
  },
  {
   "attachments": {},
   "cell_type": "markdown",
   "metadata": {
    "id": "MhVAvgNLJ8eC"
   },
   "source": [
    "2.5 Transforme os items do dicionario (lembre-se do método para obter os items...) numa lista de tuplos, com a função `list`.\n",
    "\n",
    "Resultado esperado: `[('bola', 6), ('boneca', 14), ('carro', 9)]`"
   ]
  },
  {
   "cell_type": "code",
   "execution_count": 8,
   "metadata": {
    "id": "PYJa4RwyJ8eC"
   },
   "outputs": [
    {
     "name": "stdout",
     "output_type": "stream",
     "text": [
      "[('pião', 1), ('boneca', 14), ('carro', 9), ('bola', 6)]\n"
     ]
    }
   ],
   "source": [
    "lista_tuplas = list(brinquedos_quantidade.items())\n",
    "\n",
    "print(lista_tuplas)"
   ]
  },
  {
   "attachments": {},
   "cell_type": "markdown",
   "metadata": {
    "id": "kaZDERu3J8eC"
   },
   "source": [
    "2.6 Como o dicionário não é ordenável, este é convertido numa lista, que depois pode ser ordenada. Ordene decrescentemente a lista, pela quantidade de brinquedos, imprimindo de acordo com o formato em baixo:\n",
    "\n",
    "```\n",
    "Existem 14 bonecas\n",
    "Existem 9 carros\n",
    "Existem 6 bolas\n",
    "Existe 1 pião\n",
    "```"
   ]
  },
  {
   "cell_type": "code",
   "execution_count": 9,
   "metadata": {
    "id": "59hnNIlKJ8eD"
   },
   "outputs": [
    {
     "name": "stdout",
     "output_type": "stream",
     "text": [
      "Existem 14 bonecas\n",
      "Existem 9 carros\n",
      "Existem 6 bolas\n",
      "Existe 1 pião\n"
     ]
    }
   ],
   "source": [
    "\n",
    "lista_ordenada = sorted(lista_tuplas, key=lambda x: x[1], reverse=True)\n",
    "\n",
    "for brinquedo, quantidade in lista_ordenada:\n",
    "    if quantidade == 1:\n",
    "        print(f\"Existe 1 {brinquedo}\")\n",
    "    else:\n",
    "        print(f\"Existem {quantidade} {brinquedo}s\")"
   ]
  },
  {
   "attachments": {},
   "cell_type": "markdown",
   "metadata": {
    "id": "xXA4KlHsJ8eD"
   },
   "source": [
    "2.7 Como o dicionário não é ordenável, este é convertido numa lista, que depois pode ser ordenada. Ordene lista alfabeticamente pelo nome do brinquedo, imprimindo de acordo com o formato em baixo:\n",
    "\n",
    "```\n",
    "bonecas: 14\n",
    "carros: 9\n",
    "bolas: 6\n",
    "pião: 1\n",
    "```"
   ]
  },
  {
   "cell_type": "code",
   "execution_count": 14,
   "metadata": {
    "id": "VeQ-qNa2J8eD"
   },
   "outputs": [
    {
     "name": "stdout",
     "output_type": "stream",
     "text": [
      "boneca: 14\n",
      "carro: 9\n",
      "bola: 6\n",
      "pião: 1\n"
     ]
    }
   ],
   "source": [
    "\n",
    "lista_ordenada = sorted(lista_tuplas, key=lambda x: x[1],reverse=True)\n",
    "\n",
    "for brinquedo, quantidade in lista_ordenada:\n",
    "    print(f\"{brinquedo}: {quantidade}\")"
   ]
  },
  {
   "attachments": {},
   "cell_type": "markdown",
   "metadata": {
    "id": "Hpk1B5eLJ8eD"
   },
   "source": [
    "# 3. Criando dicionários\n",
    "\n",
    "[Dicionarios e suas operações: video-tutorial (6 min)](https://educast.fccn.pt/vod/clips/1qwauls8yh/desktop.mp4?locale=pt)\n",
    "\n",
    "3.1 Crie um dicionário de idades, onde pede repetidamente ao utilizador para inserir um nome e uma idade, que armazenará num dicionário. Deverá parar a inserção quando o utilizador especificar como nome a palavra 'fim', imprimindo o dicionário resultante. Exemplo de funcionamento:\n",
    "\n",
    "```\n",
    "Insira um nome (ou 'fim' para terminar): Mario\n",
    "Insira a idade do Mario: 13\n",
    "Insira um nome (ou 'fim' para terminar): Ze\n",
    "Insira a idade do Ze: 11\n",
    "Insira um nome (ou 'fim' para terminar): Rui\n",
    "Insira a idade do Rui: 15\n",
    "Insira um nome (ou 'fim' para terminar): fim\n",
    "\n",
    "Dicionário criado: {'Mario': 13, 'Ze': 11, 'Rui': 15}\n",
    "```"
   ]
  },
  {
   "cell_type": "code",
   "execution_count": 15,
   "metadata": {
    "id": "vQjw_EEwJ8eD"
   },
   "outputs": [
    {
     "name": "stdout",
     "output_type": "stream",
     "text": [
      "\n",
      "Dicionário criado: {'Mario': 13, 'Ze': 11, 'Rui': 15}\n"
     ]
    }
   ],
   "source": [
    "idades = {}\n",
    "\n",
    "while True:\n",
    "    nome = input(\"Insira um nome (ou 'fim' para terminar): \")\n",
    "    if nome == 'fim':\n",
    "        break\n",
    "    idade = int(input(f\"Insira a idade do {nome}: \"))\n",
    "    idades[nome] = idade\n",
    "\n",
    "print(\"\\nDicionário criado:\", idades)\n"
   ]
  },
  {
   "attachments": {},
   "cell_type": "markdown",
   "metadata": {
    "id": "l8IOQ3OhJ8eD"
   },
   "source": [
    "3.2 Com base no dicionário criado, escreva um programa que peça ao utilizador para inserir um nome. O programa deverá indicar a idade dessa pessoa. Repita enquanto não for inserido 'fim'. Caso o nome não conste no dicionário, imprima uma mensagem adequada. PAra tal, antes de consultar o dicionário deverá inquirir se a chave existe no dicionario com o operador `in` (exemplo de utilização: `if amigo in dic_amigos`). Exemplo de funcionamento:\n",
    "\n",
    "```\n",
    "Insira um nome (ou 'fim' para terminar): Ze\n",
    "O Ze tem 11 anos\n",
    "Insira um nome (ou 'fim' para terminar): Luis\n",
    "O Luis não consta no dicionário de amigos\n",
    "Insira um nome (ou 'fim' para terminar): fim\n",
    "Obrigado\n",
    "```"
   ]
  },
  {
   "cell_type": "code",
   "execution_count": 16,
   "metadata": {
    "id": "6T53SzflJ8eE"
   },
   "outputs": [
    {
     "name": "stdout",
     "output_type": "stream",
     "text": [
      "O Ze tem 11 anos\n",
      "O Luis não consta no dicionário de amigos\n",
      "Obrigado\n"
     ]
    }
   ],
   "source": [
    "while True:\n",
    "    nome = input(\"Insira um nome (ou 'fim' para terminar): \")\n",
    "    if nome == 'fim':\n",
    "        break\n",
    "    if nome in idades:\n",
    "        idade = idades[nome]\n",
    "        print(f\"O {nome} tem {idade} anos\")\n",
    "    else:\n",
    "        print(f\"O {nome} não consta no dicionário de amigos\")\n",
    "\n",
    "print(\"Obrigado\")"
   ]
  },
  {
   "attachments": {},
   "cell_type": "markdown",
   "metadata": {
    "id": "OoeFEOrRJ8eE"
   },
   "source": [
    "# 4 Explorando um dicionário\n",
    "\n",
    "Considere o dicionário brinquedos em baixo que tem o inventário dos brinquedos de várias crianças:\n",
    "* Manuel tem um carro e uma bola\n",
    "* Maria tem uma boneca e uma bola\n",
    "* Luís tem uma bola, boneca e carro\n",
    "\n",
    "Exemplo de um dicionário."
   ]
  },
  {
   "cell_type": "code",
   "execution_count": 18,
   "metadata": {
    "id": "43AAAEGCJ8eE"
   },
   "outputs": [],
   "source": [
    "brinquedos = {\n",
    "    \"Manuel\": [\"carro\", \"bola\"],\n",
    "    \"Maria\": [\"boneca\", \"bola\"],\n",
    "    \"Luis\": [\"bola\", \"boneca\", \"carro\"]\n",
    "    }"
   ]
  },
  {
   "attachments": {},
   "cell_type": "markdown",
   "metadata": {
    "id": "BxfhxoNtJ8eE"
   },
   "source": [
    "4.1 Considerando que o dicionário segue a estrutura anterior, escreva uma instrução que compute quantas crianças existem no dicionário\n",
    "\n",
    "Resultado esperado: `Existem 3 crianças`"
   ]
  },
  {
   "cell_type": "code",
   "execution_count": 19,
   "metadata": {
    "id": "3WVGPM7zJ8eE"
   },
   "outputs": [
    {
     "name": "stdout",
     "output_type": "stream",
     "text": [
      "Existem 3 crianças\n"
     ]
    }
   ],
   "source": [
    "print(f\"Existem {len(brinquedos)} crianças\")"
   ]
  },
  {
   "attachments": {},
   "cell_type": "markdown",
   "metadata": {
    "id": "fQe9KZvPJ8eE"
   },
   "source": [
    "4.2 Considerando que o dicionário segue a estrutura anterior, imprima a informação de quantos brinquedos cada criança tem, iterando com um ciclo for pelos items do dicionário, e usando uma string formatada.\n",
    "\n",
    "Resultado esperado:\n",
    "\n",
    "```\n",
    "Manuel: 2 brinquedos \n",
    "Maria: 2 brinquedos \n",
    "Luis: 3 brinquedos\n",
    "```"
   ]
  },
  {
   "cell_type": "code",
   "execution_count": 20,
   "metadata": {
    "id": "4FAlFfhkJ8eF"
   },
   "outputs": [
    {
     "name": "stdout",
     "output_type": "stream",
     "text": [
      "Manuel: 2 brinquedos\n",
      "Maria: 2 brinquedos\n",
      "Luis: 3 brinquedos\n"
     ]
    }
   ],
   "source": [
    "for crianca, lista_brinquedos in brinquedos.items():\n",
    "    num_brinquedos = len(lista_brinquedos)\n",
    "    print(f\"{crianca}: {num_brinquedos} brinquedos\")"
   ]
  },
  {
   "attachments": {},
   "cell_type": "markdown",
   "metadata": {
    "id": "rKy_5teCJ8eF"
   },
   "source": [
    "4.3 Imaginando que conhece a estrutura mas não o conteúdo do dicionário, verifique a quantidade total de brinquedos existente.\n",
    "\n",
    "Exemplo de resultado: `Existem 7 brinquedos`"
   ]
  },
  {
   "cell_type": "code",
   "execution_count": 21,
   "metadata": {
    "id": "imwLcTrkJ8eF"
   },
   "outputs": [
    {
     "name": "stdout",
     "output_type": "stream",
     "text": [
      "Existem 7 brinquedos\n"
     ]
    }
   ],
   "source": [
    "quantidade_total = 0\n",
    "\n",
    "for lista_brinquedos in brinquedos.values():\n",
    "    quantidade_total += len(lista_brinquedos)\n",
    "\n",
    "print(f\"Existem {quantidade_total} brinquedos\")"
   ]
  },
  {
   "attachments": {},
   "cell_type": "markdown",
   "metadata": {
    "id": "yZ9oUqQ0J8eF"
   },
   "source": [
    "4.4 crie um código que verifique se existe alguma criança com um carro"
   ]
  },
  {
   "cell_type": "code",
   "execution_count": 23,
   "metadata": {
    "id": "JrKy0yuFJ8eF"
   },
   "outputs": [
    {
     "name": "stdout",
     "output_type": "stream",
     "text": [
      "Existe pelo menos uma criança temo\n"
     ]
    }
   ],
   "source": [
    "tem_carro = False\n",
    "\n",
    "for lista_brinquedos in brinquedos.values():\n",
    "    if \"carro\" in lista_brinquedos:\n",
    "        print(\"Existe pelo menos uma criança temo\")\n",
    "        break\n",
    "    else:\n",
    "        print(\"Nenhuma criança tem\")\n",
    "\n",
    "    "
   ]
  },
  {
   "attachments": {},
   "cell_type": "markdown",
   "metadata": {
    "id": "2BPzvcaTJ8eG"
   },
   "source": [
    "4.5 crie um código que indique os nomes das crianças que têm um carro.\n",
    "\n",
    "Resultado esperado: `Manuel Luis `"
   ]
  },
  {
   "cell_type": "code",
   "execution_count": 24,
   "metadata": {
    "id": "tzHxHy9CJ8eG"
   },
   "outputs": [
    {
     "name": "stdout",
     "output_type": "stream",
     "text": [
      "Manuel Luis\n"
     ]
    }
   ],
   "source": [
    "criancas_com_carro = []\n",
    "\n",
    "for crianca, lista_brinquedos in brinquedos.items():\n",
    "    if \"carro\" in lista_brinquedos:\n",
    "        criancas_com_carro.append(crianca)\n",
    "\n",
    "nomes_criancas_com_carro = \" \".join(criancas_com_carro)\n",
    "\n",
    "print(nomes_criancas_com_carro)"
   ]
  },
  {
   "attachments": {},
   "cell_type": "markdown",
   "metadata": {
    "id": "VcjCe8mTJ8eG"
   },
   "source": [
    "4.6 crie um código que indique quantas crianças têm uma boneca\n",
    "\n",
    "Resultado esperado: `Existem 2 crianças com uma boneca`"
   ]
  },
  {
   "cell_type": "code",
   "execution_count": 25,
   "metadata": {
    "id": "AT4NOdPhJ8eG"
   },
   "outputs": [
    {
     "name": "stdout",
     "output_type": "stream",
     "text": [
      "Existem 2 crianças com uma boneca\n"
     ]
    }
   ],
   "source": [
    "count_boneca = 0\n",
    "\n",
    "for lista_brinquedos in brinquedos.values():\n",
    "    if \"boneca\" in lista_brinquedos:\n",
    "        count_boneca += 1\n",
    "\n",
    "\n",
    "print(f\"Existem {count_boneca} crianças com uma boneca\")"
   ]
  },
  {
   "attachments": {},
   "cell_type": "markdown",
   "metadata": {
    "id": "cdztO1ILJ8eG"
   },
   "source": [
    "4.7 crie uma instrução para adicionar um pião à lista de brinquedos do Manuel"
   ]
  },
  {
   "cell_type": "code",
   "execution_count": 26,
   "metadata": {
    "id": "F1CcgVAlJ8eG"
   },
   "outputs": [
    {
     "name": "stdout",
     "output_type": "stream",
     "text": [
      "{'Manuel': ['carro', 'bola', 'pião'], 'Maria': ['boneca', 'bola'], 'Luis': ['bola', 'boneca', 'carro']}\n"
     ]
    }
   ],
   "source": [
    "brinquedos[\"Manuel\"].append(\"pião\")\n",
    "\n",
    "print(brinquedos)"
   ]
  },
  {
   "attachments": {},
   "cell_type": "markdown",
   "metadata": {
    "id": "pyeJoT6-J8eG"
   },
   "source": [
    "4.8 remova a bola da lista de brinquedos do Manuel"
   ]
  },
  {
   "cell_type": "code",
   "execution_count": 27,
   "metadata": {
    "id": "dLuVHwSOJ8eG"
   },
   "outputs": [
    {
     "name": "stdout",
     "output_type": "stream",
     "text": [
      "{'Manuel': ['carro', 'pião'], 'Maria': ['boneca', 'bola'], 'Luis': ['bola', 'boneca', 'carro']}\n"
     ]
    }
   ],
   "source": [
    "\n",
    "brinquedos[\"Manuel\"].remove(\"bola\")\n",
    "\n",
    "print(brinquedos)"
   ]
  },
  {
   "attachments": {},
   "cell_type": "markdown",
   "metadata": {},
   "source": [
    "# Classes\n",
    "\n",
    "Os automóveis mais recentes mostram a distância que é possível percorrer até ser necessário um reabastecimento. Pretende-se criar esta funcionalidade em Python através da classe automovel. Esta classe é construída indicando os seguintes atributos: \n",
    "* capacidade_combustivel, a capacidade do depósito.\n",
    "* quant_combustivel, a quantidade de combustível no depósito.\n",
    "* consumo, o consumo do automóvel em litros aos 100 km. \n",
    "\n",
    "A classe automovel apresenta também os seguintes métodos:\n",
    "* combustivel: devolve a quantidade de combustível no depósito;\n",
    "* autonomia: devolve o numero de km que é possível percorrer com o combustível no depósito;\n",
    "* abastece(n_litros): aumenta em n_litros o combustível no depósito e retorna a autonomia. Se este abastecimento exceder a capacidade do depósito, gera um erro e não aumenta a quantidade de combustível no depósito;\n",
    "* percorre(n_km) percorre n_km Km, desde que a quantidade de combustível no depósito o permita, em caso contrário gera um erro e o trajecto não é efectuado. Retorna a autonomia.\n",
    "\n",
    "Exemplo de interação da classe:\n",
    "```\n",
    ">>> a1 = automovel(60, 10, 15)\n",
    ">>> a1.autonomia()\n",
    "66\n",
    ">>> a1.abastece(45)\n",
    "366\n",
    ">>> a1.percorre(150)\n",
    "216\n",
    ">>> a1.percorre(250)\n",
    "-1\n",
    "```\n",
    "\n",
    "Faça uma demonstração da utilização desta classe, implementando o exemplo atrás."
   ]
  },
  {
   "cell_type": "code",
   "execution_count": 29,
   "metadata": {},
   "outputs": [
    {
     "name": "stdout",
     "output_type": "stream",
     "text": [
      "66\n",
      "366\n",
      "216\n",
      "-1\n"
     ]
    }
   ],
   "source": [
    "class Automovel:\n",
    "    def __init__(self, capacidade_combustivel, quant_combustivel, consumo):\n",
    "        self.capacidade_combustivel = capacidade_combustivel\n",
    "        self.quant_combustivel = quant_combustivel\n",
    "        self.consumo = consumo\n",
    "\n",
    "    def combustivel(self):\n",
    "        return self.quant_combustivel\n",
    "\n",
    "    def autonomia(self):\n",
    "        return int((self.quant_combustivel / self.consumo) * 100)\n",
    "\n",
    "    def abastece(self, n_litros):\n",
    "        if (self.quant_combustivel + n_litros) <= self.capacidade_combustivel:\n",
    "            self.quant_combustivel += n_litros\n",
    "            return self.autonomia()\n",
    "        else:\n",
    "            raise ValueError(\"Capacidade do depósito excedida.\")\n",
    "\n",
    "    def percorre(self, n_km):\n",
    "        autonomia_maxima = self.autonomia()\n",
    "        autonomia_necessaria = (n_km / 100) * self.consumo\n",
    "\n",
    "        if autonomia_necessaria <= self.quant_combustivel:\n",
    "            self.quant_combustivel -= autonomia_necessaria\n",
    "            return self.autonomia()\n",
    "        else:\n",
    "            return -1\n",
    "\n",
    "\n",
    "a1 = Automovel(60, 10, 15)\n",
    "print(a1.autonomia()) \n",
    "\n",
    "print(a1.abastece(45)) \n",
    "\n",
    "print(a1.percorre(150))  \n",
    "\n",
    "print(a1.percorre(250)) \n"
   ]
  }
 ],
 "metadata": {
  "colab": {
   "name": "padc-exercicios-04.ipynb",
   "provenance": []
  },
  "kernelspec": {
   "display_name": "Python 3 (ipykernel)",
   "language": "python",
   "name": "python3"
  },
  "language_info": {
   "codemirror_mode": {
    "name": "ipython",
    "version": 3
   },
   "file_extension": ".py",
   "mimetype": "text/x-python",
   "name": "python",
   "nbconvert_exporter": "python",
   "pygments_lexer": "ipython3",
   "version": "3.7.8"
  }
 },
 "nbformat": 4,
 "nbformat_minor": 1
}
