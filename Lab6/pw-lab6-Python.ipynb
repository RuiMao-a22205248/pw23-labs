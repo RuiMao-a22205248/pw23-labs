{
 "cells": [
  {
   "attachments": {
    "image.png": {
     "image/png": "[encoded data removed]"
    }
   },
   "cell_type": "markdown",
   "metadata": {},
   "source": [
    "# Lab. 6: Python\n",
    "\n",
    "**Esta ficha deve ser resolvida e [submetida](https://moodle.ensinolusofona.pt/mod/assign/view.php?id=80679) antes da sua aula prática da semana de 23.4.**\n",
    "\n",
    "\n",
    "\n",
    "# Jupyter Notebook\n",
    "\n",
    "##  Instalação\n",
    "0. Veja o [video](https://educast.fccn.pt/vod/clips/1007vh2gz5/streaming.html?locale=en) de 1' sobre o Jupyter 👽\n",
    "1. Abra uma janela de comando (cmd) e execute o comando `python` 🐍. Certifique-se que é a versão 3. Caso contrário, descarregue do [site do Python](https://www.python.org/downloads/) a versão 3 \n",
    "2. Abra uma janela de comando (cmd) e execute o comando para instalar o Jupyter: `python -m pip install jupyter` \n",
    "3. escolha uma pasta onde queira trabalhar, e guarde nessa pasta este ficheiro Jupyter Notebook (com extensão .ipynb)\n",
    "4. na linha de comando, vá até a essa pasta e execute o comando: `jupyter notebook`, ou alternativamente `python -m notebook`\n",
    "5. O browser será aberto automáticamente, aparecendo o conteúdo da pasta, onde deverá constar a ficha de exercícios, que clicando será aberta.\n",
    "\n",
    "## Conceitos chave\n",
    "\n",
    "Um documento Jupyter Notebook é uma lista de células que podem conter código, texto (usando Markdown), expressões matemáticas, gráficos e texto enriquecido, geralmente terminando com a extensão \".ipynb\". É estruturado segundo o formato JSON. \n",
    "\n",
    "Tem dois tipos de células:\n",
    "* Markdown, para escrita de texto\n",
    "* Code, para escrita de código Python\n",
    "\n",
    "O tipo de uma determinada célula especifica-se no menu. Adicione novas células premindo no botão `+` do menu e mova-as com as setas.\n",
    "\n",
    "#### Markdown\n",
    "\n",
    "* Permite escrever em texto formatado usando Markdown, incluindo como fórmulas matemáticas. Mais informação sobre Markdown está disponível [aqui](https://towardsdatascience.com/write-markdown-latex-in-the-jupyter-notebook-10985edb91fd). Aceita marcador # para título, ## subtitulo, ..., * para bullet.\n",
    "* Para editar uma célula markdown, basta clicar duas vezes sobre o texto e verá o texto em formato Markdown.\n",
    "\n",
    "\n",
    "#### Code\n",
    "\n",
    "* Células contendo código Python. \n",
    "* O código duma célula é executado premindo Shift+Enter ou premindo a tecla Run.\n",
    "* Por vezes o Jupyter deixa de responder, devido a certo tipo de erros. Para recuperar, reinicie o kernel premindo em ![image.png](attachment:image.png)\n",
    "\n",
    "Se tiver dúvidas, consulte:\n",
    "\n",
    "* slides da aula, que têm toda a matéria necessária para a resolução desta ficha\n",
    "* [video-tutoriais](https://educast.fccn.pt/vod/channels/1fzfn2fjbd?locale=en) curtos sobre matérias específicas.\n",
    "\n"
   ]
  },
  {
   "cell_type": "markdown",
   "metadata": {},
   "source": [
    "# 1. Métodos das Strings\n",
    "\n",
    "* Em Python, cada tipo de variável é uma classe, e tem um conjunto de métodos (funções) disponíveis. \n",
    "* Com a instrução `dir(str)` pode listar os métodos existentes do tipo string.\n",
    "* `help(str.title)` permite inquirir sobre o seu funcionamento dum método (neste caso, o método `title`)."
   ]
  },
  {
   "cell_type": "markdown",
   "metadata": {},
   "source": [
    "Para os métodos em baixo indicados, veja a descrição com a função help e escreva um exemplo de utilização para o experimentar"
   ]
  },
  {
   "cell_type": "code",
   "execution_count": 1,
   "metadata": {},
   "outputs": [
    {
     "name": "stdout",
     "output_type": "stream",
     "text": [
      "Help on method_descriptor:\n",
      "\n",
      "title(self, /)\n",
      "    Return a version of the string where each word is titlecased.\n",
      "    \n",
      "    More specifically, words start with uppercased characters and all remaining\n",
      "    cased characters have lower case.\n",
      "\n"
     ]
    }
   ],
   "source": [
    "help(str.title)"
   ]
  },
  {
   "cell_type": "code",
   "execution_count": 3,
   "metadata": {},
   "outputs": [
    {
     "data": {
      "text/plain": [
       "'Exercícios Introdutorios Ao Python'"
      ]
     },
     "execution_count": 3,
     "metadata": {},
     "output_type": "execute_result"
    }
   ],
   "source": [
    "# Este já está resolvido, para ver como se pretende que faça 😉\n",
    "\n",
    "# title() \n",
    "frase = \"exercícios introdutorios ao python\"\n",
    "\n",
    "frase.title() # será impresso em baixo sem precisar de print"
   ]
  },
  {
   "cell_type": "code",
   "execution_count": 4,
   "metadata": {},
   "outputs": [
    {
     "data": {
      "text/plain": [
       "'Exercícios introdutorios ao python'"
      ]
     },
     "execution_count": 4,
     "metadata": {},
     "output_type": "execute_result"
    }
   ],
   "source": [
    "#capitalize()\n",
    "\n",
    "frase.capitalize()"
   ]
  },
  {
   "cell_type": "code",
   "execution_count": 5,
   "metadata": {},
   "outputs": [
    {
     "data": {
      "text/plain": [
       "['exercícios', 'introdutorios', 'ao', 'python']"
      ]
     },
     "execution_count": 5,
     "metadata": {},
     "output_type": "execute_result"
    }
   ],
   "source": [
    "#split()\n",
    "frase.split()\n"
   ]
  },
  {
   "cell_type": "code",
   "execution_count": 14,
   "metadata": {
    "scrolled": true
   },
   "outputs": [
    {
     "data": {
      "text/plain": [
       "'yexercícios introdutorios ao pythoneexercícios introdutorios ao pythons'"
      ]
     },
     "execution_count": 14,
     "metadata": {},
     "output_type": "execute_result"
    }
   ],
   "source": [
    "#join()\n",
    "s=\"yes\"\n",
    "frase.join(s)\n"
   ]
  },
  {
   "cell_type": "code",
   "execution_count": 15,
   "metadata": {},
   "outputs": [
    {
     "data": {
      "text/plain": [
       "'@br@c@d@br@'"
      ]
     },
     "execution_count": 15,
     "metadata": {},
     "output_type": "execute_result"
    }
   ],
   "source": [
    "#replace() \n",
    "palavra = \"abracadabra\"  # substitua 'a' por '@' 😉\n",
    "palavra.replace(\"a\",\"@\")\n"
   ]
  },
  {
   "cell_type": "code",
   "execution_count": 18,
   "metadata": {},
   "outputs": [
    {
     "data": {
      "text/plain": [
       "5"
      ]
     },
     "execution_count": 18,
     "metadata": {},
     "output_type": "execute_result"
    }
   ],
   "source": [
    "#count\n",
    "\n",
    "palavra = \"abracadabra\"  # conte quantos 'a' ocorrem em palavra 😉\n",
    "palavra.count(\"a\")"
   ]
  },
  {
   "cell_type": "code",
   "execution_count": 21,
   "metadata": {},
   "outputs": [
    {
     "data": {
      "text/plain": [
       "-1"
      ]
     },
     "execution_count": 21,
     "metadata": {},
     "output_type": "execute_result"
    }
   ],
   "source": [
    "#find\n",
    "\n",
    "palavra = \"abracadabra\"  # procure em que posição está a primeira letra 'r' 🧐. Se não existir retorna -1\n",
    "palavra.find(\"r\")"
   ]
  },
  {
   "cell_type": "code",
   "execution_count": 23,
   "metadata": {},
   "outputs": [
    {
     "data": {
      "text/plain": [
       "False"
      ]
     },
     "execution_count": 23,
     "metadata": {},
     "output_type": "execute_result"
    }
   ],
   "source": [
    "#isalnum     retorna True se só tiver carateres alfabeticos (letras) ou digitos. \n",
    "           # Se retornar False tem carateres especiais 🤓 bom para passwords fortes 💪\n",
    "palavra = \"abracadabra🤓\"\n",
    "palavra.isalnum()"
   ]
  },
  {
   "cell_type": "code",
   "execution_count": 26,
   "metadata": {},
   "outputs": [
    {
     "data": {
      "text/plain": [
       "True"
      ]
     },
     "execution_count": 26,
     "metadata": {},
     "output_type": "execute_result"
    }
   ],
   "source": [
    "#isalpha\n",
    "\n",
    "palavra = \"abracadabra\"\n",
    "palavra.isalpha()\n"
   ]
  },
  {
   "cell_type": "code",
   "execution_count": 27,
   "metadata": {},
   "outputs": [
    {
     "data": {
      "text/plain": [
       "True"
      ]
     },
     "execution_count": 27,
     "metadata": {},
     "output_type": "execute_result"
    }
   ],
   "source": [
    "#isdigit\n",
    "palavra = \"123\"\n",
    "palavra.isdigit()\n"
   ]
  },
  {
   "cell_type": "code",
   "execution_count": 24,
   "metadata": {},
   "outputs": [
    {
     "data": {
      "text/plain": [
       "3"
      ]
     },
     "execution_count": 24,
     "metadata": {},
     "output_type": "execute_result"
    }
   ],
   "source": [
    "# função len()   - retorna numero de carateres. Usada em listas e tuplos também para ver a quantidade de elementos\n",
    "\n",
    "len('ola')\n"
   ]
  },
  {
   "cell_type": "markdown",
   "metadata": {},
   "source": [
    "# 2. Onomatopeia\n",
    "\n",
    "Considere os operadores sobre strings de concatenação `+` e repetição `*`:\n",
    "```Python\n",
    ">>> 'Py' + 'thon'   # concatenação\n",
    "'Python'\n",
    ">>> 'ah' * 3        # repetição\n",
    "'ahahaha'\n",
    "```\n",
    "\n",
    "Defina, usando operadores sobre strings de concatenação `+` e repetição `*`, uma string com a seguinte onomatopeia: \n",
    "\n",
    "```\n",
    "buuuuuuummmmm\n",
    "```"
   ]
  },
  {
   "cell_type": "code",
   "execution_count": 28,
   "metadata": {},
   "outputs": [
    {
     "data": {
      "text/plain": [
       "'buuuuuuummmmm'"
      ]
     },
     "execution_count": 28,
     "metadata": {},
     "output_type": "execute_result"
    }
   ],
   "source": [
    "'b'+'u'*7+'m'*5"
   ]
  },
  {
   "cell_type": "markdown",
   "metadata": {},
   "source": [
    "# in & out: funções `input`, `eval` e `print`\n",
    "\n",
    "analise e execute as seguintes células de código"
   ]
  },
  {
   "cell_type": "code",
   "execution_count": 29,
   "metadata": {},
   "outputs": [
    {
     "name": "stdout",
     "output_type": "stream",
     "text": [
      "rui <class 'str'>\n"
     ]
    }
   ],
   "source": [
    "nome = input(\"Insira o seu nome: \") # input retorna numa string os carateres digitados\n",
    "\n",
    "print(nome, type(nome))"
   ]
  },
  {
   "cell_type": "code",
   "execution_count": 31,
   "metadata": {},
   "outputs": [
    {
     "name": "stdout",
     "output_type": "stream",
     "text": [
      "2004 <class 'int'>\n"
     ]
    }
   ],
   "source": [
    "# eval() avalia aritméticamente uma string e converte o resultado num número.\n",
    "\n",
    "ano_nascimento = eval(input(\"Insira o seu ano de nascimento: \")) \n",
    "\n",
    "print(ano_nascimento, type(ano_nascimento))"
   ]
  },
  {
   "cell_type": "code",
   "execution_count": 33,
   "metadata": {},
   "outputs": [
    {
     "data": {
      "text/plain": [
       "16"
      ]
     },
     "execution_count": 33,
     "metadata": {},
     "output_type": "execute_result"
    }
   ],
   "source": [
    "expressao = '2**4' # str com expressão aritmética. '**' é o operador potência, 2**3 = 2*2*2\n",
    "\n",
    "eval(expressao)   # eval() vai avaliar matemáticamente a expressão e retorna o resultado"
   ]
  },
  {
   "cell_type": "code",
   "execution_count": 34,
   "metadata": {},
   "outputs": [
    {
     "name": "stdout",
     "output_type": "stream",
     "text": [
      "Olá rui! Este ano celebras 18\n"
     ]
    }
   ],
   "source": [
    "# uma formatted string é uma string precedida pela letra f\n",
    "# permite incluir expressões entre {}\n",
    "\n",
    "frase = f\"Olá {nome}! Este ano celebras {2022 - ano_nascimento}\"\n",
    "\n",
    "print(frase)"
   ]
  },
  {
   "cell_type": "code",
   "execution_count": 36,
   "metadata": {},
   "outputs": [
    {
     "name": "stdout",
     "output_type": "stream",
     "text": [
      "SUPER CALCULADORA 🤓 (experimente 234**2345)\n",
      "234**2345 = 647419277516726933652413338540322183103113903515936229742174043207015303591745327762419784835318464889102750496906555375948331347727762720561269888987580359649456565567271485424034089728928594407862510719746295839275552227300953747758431928663708070842869341579975128443359605146064257423379784385025345623527050480887337879397398135160163628276092798170190478880094498076066613985619300144593707583699439951568037696246720163040539331754374197918148573115490738001310655437370031817345297620156261586144141694418585544046727568197569894124894833907683712012499707101710047772168985856773973474171942619841663478596858387151572072885396852282364478925034204143408188981980185797369721843706840979425641219807623864767473798851030536581235419055750303094974678603696748725595393735567002492190612029959468176219094548719609134904215842760835055087109770918202096787129046624281520604179552473542352283146517356240906797127885657292804242807417106555254753494305123775483003035956409501278489155241179109352179292573467904010630106748326613606718189577846077375018711529631903482152776964604071074576781857204429728764847772640826095057685854303693210535506426754524803282816201039363785341358163213876438279795052336699147544233584979860137067760359092383581263588730924684552436950581032820395125830861972702604348993395350891195379151528058465696570414651149692363633099461466356967748114396311896624440547192336304854978025425912680357590564110140411481958088370220808157459170347535029064912538484763494910935849003376505009428478307913407840952732324742924823073312778872996158923013880873314432232171361082046939610204641698012622908643207298330826583329206746991091802084558527738779452209606197485235501331383142360926071109456533994223149280328258860786435430386000439885810868362487257073496055174269552958742374470337048043129589692602247298637920220988307647128248560168612801782845092572329677339451601378880005149475061195260653897570483828260480911827189188081705980770431321948239445870774377726894492497354591442400640724515799318153279950155791819066846141164011521465034922187960911029804269005056573398454546879658402584293120336940941908558796281971485306560089912503650937560903578665330456579792899681867046658386633959107134820351838988612658887348396925919408340409492908605705238297538658159398521180818805650069150898996855219546705630216895671079825899345724811680351416225569054973297350637866364843480447946707274484460327324883212016808420843555916973441279158882426822596758299259966469565319328468441314603277100749735397150561306027286735343405331841777322804256998051649569861047572047656132786860842095665765993398297220562280535609522297074610421353622457191170429377543885282440683098798214884039323211424213981037385994751211231802599788947445442048265550565817319035470365752544749102462296231453335650717531767624036209697722438092373389807570026341772616394571706288920000579348801078253430878014065523366948591371461694671566113749873571491202999949660391467397122913200336435112620382314369036405814057017609300918774694325080115560392466143250818854904860592663525481204428136287122858445641340232913941400888236168568271377376711493544776535770554411267923352472059687012531131618585907495075492506164594425916631446838181048289647206122712753954252655188273597844240787878099597850083217118769896698100616745472419124586306259402111863452546278932632947452182458655409194601180708376722573488226468093806620435930851703143553428822652708777073754671657572015554364079622508399510675160426868505592953369569071479632189140746001714906472415197604641632674580079473272960961806426956113303058268967384945657269357122036493464182235170704461690444355657469598247918183856046503048718981271406127931569400408067337518428950638907321515325364054431554032953500633919479534738819003780790255718792554817951310093395476158784614303700987632751590535494783757581837217270787649805429539187886985387735568943262175691955071692725914937216956188662155611436370239247333692673235446582211550997463057565281283667230240890050443889144717738838041228823803983200618011252369275648327837360268309939900885703748404768632012206482282652968196500690023338166629149448604851872551967668681530731370641158119591227405205407945947336132242361085347010361873086164015036726857186622147505667917754274581259960916340961702341141304003610673307310882902117791026694240156808794569379816612859451542497678906142427089399834768507362579777984446026817946101696816644019759811827318259111572051942215328115355712486486461687834480293116947938583206554990600779692281223145717380543144003782510134434571681173867725365048243126233069307792613920963030904389071929964477218520419324380312725752372314470844826517930720591088824611036187844961361441436476472446909765921641891256553245748731615245799272702783735202133998223149125950030418708590390158520321143675430442344663680457900011683858127437913231211172904753244681883816166809471834429383555792560059405909502637057448758631571360235259570181713610628310073045633089140716054694656756155525561494395045273751065949561886100478798691125837126147965353130051812992686335171556593890409579217808705345088070969940756067468888759102234447478622553755864598325050467328273847593484852186347729003471838929901122996331168127455095061060978269093681339217880721271392428166422328558247419939267237031410790477730052491084323966588833232559447308975002055805724202485143741561935579836309599892906032552687030511006510744107338426765218316977790493011885721024245109660041774791418445824\n"
     ]
    }
   ],
   "source": [
    "print(\"SUPER CALCULADORA 🤓 (experimente 234**2345)\")\n",
    "expressao = input(\"Insira uma expressão aritmética: \")\n",
    "print(f\"{expressao} = {eval(expressao)}\")"
   ]
  },
  {
   "cell_type": "markdown",
   "metadata": {},
   "source": [
    "# 3. Construção automática de email a partir do nome\n",
    "\n",
    "Escreva um programa que pede ao utilizador para inserir um nome completo, com vários apelidos. Construa e imprima um email. Exemplo:\n",
    "\n",
    "```\n",
    "Insira um nome completo: Manuel Sousa Silva\n",
    "Email: manuel.sousa.silva@ulusofona.pt\n",
    "```\n",
    "\n",
    "Para tal recorra aos métodos das strings tais como `replace`, `lower` e operador da concatenação `+`."
   ]
  },
  {
   "cell_type": "code",
   "execution_count": 37,
   "metadata": {},
   "outputs": [
    {
     "name": "stdout",
     "output_type": "stream",
     "text": [
      "Email:rui.mao@ulusofona.pt\n"
     ]
    }
   ],
   "source": [
    "s=input(\"Inseira um nome completo : \")\n",
    "print(f\"Email:\"+s.replace(\" \",\".\").lower()+\"@ulusofona.pt\")"
   ]
  },
  {
   "attachments": {},
   "cell_type": "markdown",
   "metadata": {},
   "source": [
    "# 4. Frase\n",
    "\n",
    "Peça ao utilizador para inserir uma frase e indique quantas vogais esta tem (tanto maiúsculas como minúsculas). \n",
    "\n",
    "Sugestões: \n",
    "* Lembre-se que pode iterar pelos carateres de uma string com: `for letra in frase:`. \n",
    "* Utilizar o operador `in`.\n",
    "* Numa string, pode imprimir aspas se definir a frase com plicas: `print(f'A frase \"{frase}\" tem {soma} carateres')`\n",
    "\n",
    "Exemplo de funcionamento:\n",
    "\n",
    "```\n",
    "Insira uma frase: Rega as tuas plantas. Ama as tuas rosas\n",
    "A frase \"Rega as tuas plantas. Ama as tuas rosas\" tem 14 vogais\n",
    "```"
   ]
  },
  {
   "cell_type": "code",
   "execution_count": 1,
   "metadata": {
    "scrolled": true
   },
   "outputs": [
    {
     "name": "stdout",
     "output_type": "stream",
     "text": [
      "A frase \"Rega as tuas plantas. ama as tuas rosas\" tem 14 vogais\n"
     ]
    }
   ],
   "source": [
    "frase=input(\"Insira uma frase: \")\n",
    "vogais=[\"a\",\"e\",\"i\",\"o\",\"u\"]\n",
    "count=0\n",
    "for x in frase :\n",
    "  for y in vogais:\n",
    "    if(x==y):\n",
    "        count+=1\n",
    "    \n",
    "print(f'A frase \"{frase}\" tem {count} vogais')\n",
    "\n"
   ]
  },
  {
   "attachments": {},
   "cell_type": "markdown",
   "metadata": {},
   "source": [
    "# 5. Billboard"
   ]
  },
  {
   "cell_type": "markdown",
   "metadata": {},
   "source": [
    "Crie um programa que recebe uma string `frase` e um dígito `n`. \n",
    "Deverá aplicar uma deslocação de n caracteres para a direita (n>0) ou para a esquerda (n<0) e em seguida apresentar o resultado na consola. Uma deslocação de n caracteres consiste em mover os caracteres todos de uma string para as a posições contíguas e em que os últimos caracteres da string passam para o início.\n",
    "\n",
    "(Nota: Se se relembrar, este problema foi resolvido no ano passado em LP1 usando C. Verá como em Python é mais simles.) \n",
    "\n",
    "Exemplo:\n",
    "\n",
    "```\n",
    "Introduza uma sequencia de carateres: abcdefghi\n",
    "Introduza um inteiro: 3\n",
    "Resultado de deslocação de 3 carateres: ghiabcdef\n",
    "```\n",
    "\n",
    "Outro exemplo:\n",
    "\n",
    "```\n",
    "Introduza uma sequencia de carateres: abcdefghi\n",
    "Introduza um inteiro: -2\n",
    "Resultado de deslocação de -2 carateres: cdefghiab\n",
    "```\n",
    "\n",
    "Sugestões:\n",
    "* utilize [slices](https://moodle.ensinolusofona.pt/pluginfile.php/318343/mod_label/intro/pw-03-python-01.pdf?time=1648601467299#page=37) e [concatenação](https://moodle.ensinolusofona.pt/pluginfile.php/318343/mod_label/intro/pw-03-python-01.pdf?time=1648601467299#page=39) de strings.\n",
    "* tome atenção ao caso de o número ser maior que o comprimento da string. Nesse caso deverá fazer usar como deslocação `n % len(frase)`, pois a rotação de `len(frase)` carateres é a própria frase."
   ]
  },
  {
   "cell_type": "code",
   "execution_count": 51,
   "metadata": {},
   "outputs": [
    {
     "name": "stdout",
     "output_type": "stream",
     "text": [
      "abcd\n"
     ]
    }
   ],
   "source": [
    "s=input(\"Introduza uma sequencia de carateres: \")\n",
    "n=int(input(\"Introduza um inteiro: \"))\n",
    "\n",
    "if(n>len(s)):\n",
    "    n=n%len(s)\n",
    "\n",
    "print(s[-n:] + s[:-n])\n"
   ]
  }
 ],
 "metadata": {
  "kernelspec": {
   "display_name": "Python 3",
   "language": "python",
   "name": "python3"
  },
  "language_info": {
   "codemirror_mode": {
    "name": "ipython",
    "version": 3
   },
   "file_extension": ".py",
   "mimetype": "text/x-python",
   "name": "python",
   "nbconvert_exporter": "python",
   "pygments_lexer": "ipython3",
   "version": "3.7.8"
  }
 },
 "nbformat": 4,
 "nbformat_minor": 4
}
